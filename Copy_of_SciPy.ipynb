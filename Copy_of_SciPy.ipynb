{
  "metadata": {
    "kernelspec": {
      "language": "python",
      "display_name": "Python 3",
      "name": "python3"
    },
    "language_info": {
      "pygments_lexer": "ipython3",
      "nbconvert_exporter": "python",
      "version": "3.6.4",
      "file_extension": ".py",
      "codemirror_mode": {
        "name": "ipython",
        "version": 3
      },
      "name": "python",
      "mimetype": "text/x-python"
    },
    "kaggle": {
      "accelerator": "none",
      "dataSources": [],
      "dockerImageVersionId": 30786,
      "isInternetEnabled": true,
      "language": "python",
      "sourceType": "notebook",
      "isGpuEnabled": false
    },
    "colab": {
      "provenance": [],
      "include_colab_link": true
    }
  },
  "nbformat_minor": 0,
  "nbformat": 4,
  "cells": [
    {
      "cell_type": "markdown",
      "metadata": {
        "id": "view-in-github",
        "colab_type": "text"
      },
      "source": [
        "<a href=\"https://colab.research.google.com/github/DevKumar57-67/SciPy-Tutorials/blob/main/Copy_of_SciPy.ipynb\" target=\"_parent\"><img src=\"https://colab.research.google.com/assets/colab-badge.svg\" alt=\"Open In Colab\"/></a>"
      ]
    },
    {
      "cell_type": "code",
      "source": [
        "## This Python 3 environment comes with many helpful analytics libraries installed\n",
        "# It is defined by the kaggle/python Docker image: https://github.com/kaggle/docker-python\n",
        "# For example, here's several helpful packages to load\n",
        "\n",
        "import numpy as np # linear algebra\n",
        "import pandas as pd # data processing, CSV file I/O (e.g. pd.read_csv)\n",
        "\n",
        "# Input data files are available in the read-only \"../input/\" directory\n",
        "# For example, running this (by clicking run or pressing Shift+Enter) will list all files under the input directory\n",
        "\n",
        "import os\n",
        "for dirname, _, filenames in os.walk('/kaggle/input'):\n",
        "    for filename in filenames:\n",
        "        print(os.path.join(dirname, filename))\n",
        "\n",
        "# You can write up to 20GB to the current directory (/kaggle/working/) that gets preserved as output when you create a version using \"Save & Run All\"\n",
        "# You can also write temporary files to /kaggle/temp/, but they won't be saved outside of the current session"
      ],
      "metadata": {
        "_uuid": "8f2839f25d086af736a60e9eeb907d3b93b6e0e5",
        "_cell_guid": "b1076dfc-b9ad-4769-8c92-a6c4dae69d19",
        "execution": {
          "iopub.status.busy": "2024-11-19T10:08:19.722504Z",
          "iopub.execute_input": "2024-11-19T10:08:19.72291Z",
          "iopub.status.idle": "2024-11-19T10:08:21.345509Z",
          "shell.execute_reply.started": "2024-11-19T10:08:19.722866Z",
          "shell.execute_reply": "2024-11-19T10:08:21.343953Z"
        },
        "trusted": true,
        "id": "yLRtbgS_BRaH"
      },
      "execution_count": null,
      "outputs": []
    },
    {
      "cell_type": "code",
      "source": [
        "#importing scipy\n",
        "!pip install scipy"
      ],
      "metadata": {
        "execution": {
          "iopub.status.busy": "2024-11-19T10:08:21.347758Z",
          "iopub.execute_input": "2024-11-19T10:08:21.348435Z",
          "iopub.status.idle": "2024-11-19T10:08:34.657589Z",
          "shell.execute_reply.started": "2024-11-19T10:08:21.348383Z",
          "shell.execute_reply": "2024-11-19T10:08:34.656105Z"
        },
        "trusted": true,
        "id": "dr3Y4yTNBRax",
        "outputId": "94af9caa-8a8c-4420-b1be-19af54aee87b",
        "colab": {
          "base_uri": "https://localhost:8080/"
        }
      },
      "execution_count": null,
      "outputs": [
        {
          "output_type": "stream",
          "name": "stdout",
          "text": [
            "Requirement already satisfied: scipy in /usr/local/lib/python3.10/dist-packages (1.13.1)\n",
            "Requirement already satisfied: numpy<2.3,>=1.22.4 in /usr/local/lib/python3.10/dist-packages (from scipy) (1.26.4)\n"
          ]
        }
      ]
    },
    {
      "cell_type": "code",
      "source": [
        "from scipy import constants\n",
        "\n",
        "pi_value=(constants.pi)\n",
        "print(pi_value)"
      ],
      "metadata": {
        "execution": {
          "iopub.status.busy": "2024-11-19T10:08:34.659651Z",
          "iopub.execute_input": "2024-11-19T10:08:34.660192Z",
          "iopub.status.idle": "2024-11-19T10:08:34.698479Z",
          "shell.execute_reply.started": "2024-11-19T10:08:34.660129Z",
          "shell.execute_reply": "2024-11-19T10:08:34.697343Z"
        },
        "trusted": true,
        "id": "LLWNbJQKBRa3",
        "outputId": "afd08dc4-be5d-4253-f2b1-9ef42d15963c",
        "colab": {
          "base_uri": "https://localhost:8080/"
        }
      },
      "execution_count": null,
      "outputs": [
        {
          "output_type": "stream",
          "name": "stdout",
          "text": [
            "3.141592653589793\n"
          ]
        }
      ]
    },
    {
      "cell_type": "code",
      "source": [
        "planck_cons=(constants.h)\n",
        "print(planck_cons)"
      ],
      "metadata": {
        "execution": {
          "iopub.status.busy": "2024-11-19T10:08:34.700582Z",
          "iopub.execute_input": "2024-11-19T10:08:34.700928Z",
          "iopub.status.idle": "2024-11-19T10:08:34.707195Z",
          "shell.execute_reply.started": "2024-11-19T10:08:34.700897Z",
          "shell.execute_reply": "2024-11-19T10:08:34.705881Z"
        },
        "trusted": true,
        "id": "lhqnfk-7BRa_",
        "outputId": "607ce850-8434-49d9-c7ea-f71f2238d284",
        "colab": {
          "base_uri": "https://localhost:8080/"
        }
      },
      "execution_count": null,
      "outputs": [
        {
          "output_type": "stream",
          "name": "stdout",
          "text": [
            "6.62607015e-34\n"
          ]
        }
      ]
    },
    {
      "cell_type": "code",
      "source": [
        "gravitation_cons=(constants.G)\n",
        "print(gravitation_cons)"
      ],
      "metadata": {
        "execution": {
          "iopub.status.busy": "2024-11-19T10:08:34.708775Z",
          "iopub.execute_input": "2024-11-19T10:08:34.70926Z",
          "iopub.status.idle": "2024-11-19T10:08:34.725184Z",
          "shell.execute_reply.started": "2024-11-19T10:08:34.709191Z",
          "shell.execute_reply": "2024-11-19T10:08:34.72363Z"
        },
        "trusted": true,
        "id": "dzMvO48qBRbD",
        "outputId": "feecb8b8-24ba-4ba9-8105-c67c390f1790",
        "colab": {
          "base_uri": "https://localhost:8080/"
        }
      },
      "execution_count": null,
      "outputs": [
        {
          "output_type": "stream",
          "name": "stdout",
          "text": [
            "6.6743e-11\n"
          ]
        }
      ]
    },
    {
      "cell_type": "code",
      "source": [
        "#Area of a circle\n",
        "\n",
        "r = 56\n",
        "area = (constants.pi*r*r)\n",
        "print(area)"
      ],
      "metadata": {
        "execution": {
          "iopub.status.busy": "2024-11-19T10:08:34.726733Z",
          "iopub.execute_input": "2024-11-19T10:08:34.727234Z",
          "iopub.status.idle": "2024-11-19T10:08:34.743275Z",
          "shell.execute_reply.started": "2024-11-19T10:08:34.727158Z",
          "shell.execute_reply": "2024-11-19T10:08:34.741289Z"
        },
        "trusted": true,
        "id": "sFvflTW0BRbH",
        "outputId": "20d66348-566a-4350-b322-da00539cb452",
        "colab": {
          "base_uri": "https://localhost:8080/"
        }
      },
      "execution_count": null,
      "outputs": [
        {
          "output_type": "stream",
          "name": "stdout",
          "text": [
            "9852.03456165759\n"
          ]
        }
      ]
    },
    {
      "cell_type": "code",
      "source": [
        "from scipy.misc import derivative\n",
        "\n",
        "# Define the function\n",
        "def f(x):\n",
        "    return x**3 + 2*x**2 + x\n",
        "\n",
        "# Compute the derivative at a specific point, e.g., x=2\n",
        "x_point = 2\n",
        "deriv = derivative(f, x_point, dx=2e-8)  # dx is the step size\n",
        "print(f\"The derivative of f(x) at x={x_point} is {deriv}\")\n"
      ],
      "metadata": {
        "execution": {
          "iopub.status.busy": "2024-11-19T10:08:34.744718Z",
          "iopub.execute_input": "2024-11-19T10:08:34.74525Z",
          "iopub.status.idle": "2024-11-19T10:08:34.77089Z",
          "shell.execute_reply.started": "2024-11-19T10:08:34.745172Z",
          "shell.execute_reply": "2024-11-19T10:08:34.769285Z"
        },
        "trusted": true,
        "id": "BEiA2FSeBRbO",
        "outputId": "e113f3bd-59c1-4c7f-a150-98f5224b614e",
        "colab": {
          "base_uri": "https://localhost:8080/"
        }
      },
      "execution_count": null,
      "outputs": [
        {
          "output_type": "stream",
          "name": "stdout",
          "text": [
            "The derivative of f(x) at x=2 is 20.99999996119095\n"
          ]
        },
        {
          "output_type": "stream",
          "name": "stderr",
          "text": [
            "<ipython-input-7-19ab2d4a9767>:9: DeprecationWarning: scipy.misc.derivative is deprecated in SciPy v1.10.0; and will be completely removed in SciPy v1.12.0. You may consider using findiff: https://github.com/maroba/findiff or numdifftools: https://github.com/pbrod/numdifftools\n",
            "  deriv = derivative(f, x_point, dx=2e-8)  # dx is the step size\n"
          ]
        }
      ]
    },
    {
      "cell_type": "code",
      "source": [
        "#Integration\n",
        "\n",
        "from scipy import integrate\n",
        "import numpy as np\n",
        "\n",
        "fun = lambda x: x**3\n",
        "\n",
        "int= integrate.quad(fun,0,45)\n",
        "print(int)"
      ],
      "metadata": {
        "execution": {
          "iopub.status.busy": "2024-11-19T10:08:34.773007Z",
          "iopub.execute_input": "2024-11-19T10:08:34.773398Z",
          "iopub.status.idle": "2024-11-19T10:08:34.95545Z",
          "shell.execute_reply.started": "2024-11-19T10:08:34.773362Z",
          "shell.execute_reply": "2024-11-19T10:08:34.953959Z"
        },
        "trusted": true,
        "id": "2jU6PDhQBRbX",
        "outputId": "c8af1214-2874-4e54-d828-a63fbd37b6e8",
        "colab": {
          "base_uri": "https://localhost:8080/"
        }
      },
      "execution_count": null,
      "outputs": [
        {
          "output_type": "stream",
          "name": "stdout",
          "text": [
            "(1025156.25, 1.1381520725883831e-08)\n"
          ]
        }
      ]
    },
    {
      "cell_type": "code",
      "source": [],
      "metadata": {
        "id": "5qsn5P7NBRbe"
      },
      "execution_count": null,
      "outputs": []
    }
  ]
}